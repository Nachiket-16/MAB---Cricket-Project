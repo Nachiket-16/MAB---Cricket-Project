{
  "cells": [
    {
      "cell_type": "markdown",
      "metadata": {
        "id": "XUfLiMPdNT6i"
      },
      "source": [
        "You can use this template for problems 1, 2 and 3"
      ]
    },
    {
      "cell_type": "code",
      "execution_count": 87,
      "metadata": {
        "id": "RjPY68QJQ-nH"
      },
      "outputs": [],
      "source": [
        "import numpy as np\n",
        "import time\n",
        "# Students will submit their files with their team-name.py\n",
        "# Student have to use the Team as their parent class"
      ]
    },
    {
      "cell_type": "markdown",
      "metadata": {
        "id": "IyIa-PRKCTCb"
      },
      "source": [
        "Recent Version of the Code"
      ]
    },
    {
      "cell_type": "markdown",
      "metadata": {
        "id": "zXNSbMkhAIrX"
      },
      "source": []
    },
    {
      "cell_type": "code",
      "execution_count": 88,
      "metadata": {
        "id": "u3mNBpDOCSWd"
      },
      "outputs": [],
      "source": [
        "# class EE21B141_Q2:\n",
        "#   def __init__(self):\n",
        "#     self.pred_mean = np.zeros(6,dtype = float)\n",
        "#     #self.init_action = [i for i in range(6) for j in range(1)]\n",
        "#     self.Time = np.zeros((6,),dtype = int)\n",
        "#     self.UCB = np.zeros((6,),dtype = float)\n",
        "#     self.prev_action=-1\n",
        "#     self.i=0\n",
        "\n",
        "\n",
        "#   def get_action(self,wicket,runs_scored):\n",
        "\n",
        "#     reward = runs_scored/6\n",
        "#     while(self.i<self.__num_arms):\n",
        "#       if(self.prev_action != -1):\n",
        "#         self.pred_mean[self.prev_action] = ((self.pred_mean[self.prev_action])*(self.Time[self.prev_action]-1)+ reward)/self.Time[self.prev_action]\n",
        "#         #self.UCB[self.prev_action] = self.pred_mean[self.prev_action] + math.sqrt(4*math.log(1+self.__num_samples)/self.Time[self.prev_action])\n",
        "#         self.Ref_UCB[self.prev_action] = self.pred_mean[self.prev_action] + np.sqrt(2*np.log(1+(self.i*(np.log(self.i)**2)))/self.Time[self.prev_action])\n",
        "\n",
        "#       current_arm_played = self.init_action[self.i]\n",
        "#       self.Time[current_arm_played] += 1\n",
        "#       self.prev_action = current_arm_played\n",
        "#       self.i+=1\n",
        "#       return int(current_arm_played)\n",
        "\n",
        "\n",
        "#     self.pred_mean[self.prev_action] = ((self.pred_mean[self.prev_action])*(self.Time[self.prev_action]-1)+ reward)/self.Time[self.prev_action]\n",
        "#     #self.UCB[self.prev_action] = self.pred_mean[self.prev_action] + math.sqrt(4*math.log(1+self.__num_samples)/self.Time[self.prev_action])\n",
        "#     self.Ref_UCB[self.prev_action] = self.pred_mean[self.prev_action] + np.sqrt(2*np.log(1+(self.i*(np.log(self.i)**2)))/self.Time[self.prev_action])\n",
        "#     #print(self.UCB)\n",
        "#     #print(\"predicted mean =\",self.pred_mean)\n",
        "#     current_arm_played = np.argmax(self.UCB)\n",
        "#     self.Time[current_arm_played] += 1\n",
        "#     self.prev_action = current_arm_played\n",
        "#     return int(current_arm_played)\n",
        "\n",
        "\n",
        "#   def get_action(self,wicket,runs_scored):\n",
        "#     action = np.random.randint(0,6)\n",
        "#     return action\n",
        "\n",
        "\n",
        "class EE21B093_Q2:\n",
        "  def __init__(self):\n",
        "    self.pred_mean = np.zeros(6,dtype = float)\n",
        "    #self.init_action = [i for i in range(6) for j in range(1)]\n",
        "    self.Time = np.zeros((6,),dtype = int)\n",
        "    self.UCB = np.zeros((6,),dtype = float)\n",
        "    self.prev_action=-1\n",
        "    self.i=0\n",
        "\n",
        "  def KL_divergence(self,p,q):\n",
        "    DIV_MAX = 100000\n",
        "    if q == 0 and p == 0:\n",
        "      return 0\n",
        "\n",
        "    elif q == 0 and not p == 0:\n",
        "\n",
        "      return DIV_MAX\n",
        "    elif q == 1 and p == 1:\n",
        "\n",
        "      return 0\n",
        "\n",
        "    elif q == 1 and not p == 1:\n",
        "\n",
        "      return DIV_MAX\n",
        "\n",
        "    elif p == 0:\n",
        "\n",
        "      return np.log(1/(1-q))\n",
        "\n",
        "    elif p == 1:\n",
        "\n",
        "      return np.log(1/q)\n",
        "\n",
        "    return p*np.log(p/q) + (1-p)*np.log((1-p)/(1-q))\n",
        "\n",
        "\n",
        "  def KL_UCB(self,action,time):\n",
        "\n",
        "    b=1\n",
        "    bound=np.log(1+time*(np.log(time))**2)/self.Time[action]\n",
        "    pred_mean=self.pred_mean[action]\n",
        "    a=pred_mean\n",
        "    for i in range(10):\n",
        "      mu=(a+b)/2\n",
        "      if (self.KL_divergence(pred_mean,mu) < bound):\n",
        "        a=mu\n",
        "      else:\n",
        "        b=mu\n",
        "    return (a+b)/2\n",
        "\n",
        "  def get_action(self,wicket,runs_scored):\n",
        "\n",
        "    reward = (runs_scored/6)**5\n",
        "    while(self.i<6): #Playing Every Arm once\n",
        "      if(self.prev_action != -1):\n",
        "        self.pred_mean[self.prev_action]+=(reward - self.pred_mean[self.prev_action])/self.Time[self.prev_action]\n",
        "      #ret = self.init_action[self.i]\n",
        "      ret = self.i\n",
        "      self.Time[ret] = self.Time[ret] + 1\n",
        "      self.prev_action = ret\n",
        "      self.i+=1\n",
        "      return int(ret)\n",
        "\n",
        "\n",
        "    self.pred_mean[self.prev_action]+=(reward - self.pred_mean[self.prev_action])/self.Time[self.prev_action]\n",
        "    #print(self.pred_mean)\n",
        "    for j in range(6):\n",
        "      self.UCB[j]=self.KL_UCB(j,self.i)\n",
        "    ret = np.argmax(self.UCB)\n",
        "    self.Time[ret] = self.Time[ret] + 1\n",
        "    self.prev_action = ret\n",
        "    self.i+=1\n",
        "    return ret\n"
      ]
    },
    {
      "cell_type": "code",
      "execution_count": 89,
      "metadata": {
        "id": "HzfBOAnrCycf"
      },
      "outputs": [],
      "source": [
        "class Environment:\n",
        "  def __init__(self,num_balls,agent):\n",
        "    self.num_balls = num_balls\n",
        "    self.agent = agent\n",
        "    self.__run_time = 0\n",
        "    self.__total_runs = 0\n",
        "    self.__total_wickets = 0\n",
        "    self.__runs_scored = 0\n",
        "    self.__start_time = 0\n",
        "    self.__end_time = 0\n",
        "    self.__regret_w = 0\n",
        "    self.__regret_s = 0\n",
        "    self.__wicket = 0\n",
        "    self.__regret_rho = 0\n",
        "    self.__p_out = np.array([0.001,0.01,0.02,0.03,0.1,0.3])\n",
        "    self.__p_run = np.array([1,0.9,0.85,0.8,0.75,0.7])\n",
        "    self.__action_runs_map = np.array([0,1,2,3,4,6])\n",
        "    self.__s = (1-self.__p_out)*self.__p_run*self.__action_runs_map\n",
        "    self.__rho = self.__s/self.__p_out\n",
        "\n",
        "\n",
        "  def __get_action(self):\n",
        "    self.__start_time      = time. time()\n",
        "    action          = self.agent.get_action(self.__wicket,self.__runs_scored)\n",
        "    self.__end_time        = time. time()\n",
        "    self.__run_time   = self.__run_time + self.__end_time - self.__start_time\n",
        "    return action\n",
        "\n",
        "\n",
        "  def __get_outcome(self, action):\n",
        "    pout = self.__p_out[action]\n",
        "    prun= self.__p_run[action]\n",
        "    wicket = np.random.choice(2,1,p=[1-pout,pout])[0]\n",
        "    runs = 0\n",
        "    if(wicket==0):\n",
        "      runs = self.__action_runs_map[action]*np.random.choice(2,1,p=[1-prun,prun])[0]\n",
        "    return wicket, runs\n",
        "\n",
        "\n",
        "  def innings(self):\n",
        "    self.__total_runs = 0\n",
        "    self.__total_wickets = 0\n",
        "    self.__runs_scored = 0\n",
        "\n",
        "    for ball in range(self.num_balls):\n",
        "      action = self.__get_action()\n",
        "      self.__wicket, self.__runs_scored   = self.__get_outcome(action)\n",
        "      self.__total_runs     = self.__total_runs + self.__runs_scored\n",
        "      self.__total_wickets  = self.__total_wickets + self.__wicket\n",
        "      self.__regret_w       = self.__regret_w+ (self.__p_out[action]-np.min(self.__p_out))\n",
        "      self.__regret_s       = self.__regret_s+ (np.max(self.__s) - self.__s[action])\n",
        "      self.__regret_rho       = self.__regret_rho+ (np.max(self.__rho)-self.__rho[action])\n",
        "    return self.__regret_w,self.__regret_s,self.__regret_rho, self.__total_runs, self.__total_wickets, self.__run_time\n"
      ]
    },
    {
      "cell_type": "code",
      "execution_count": 90,
      "metadata": {
        "colab": {
          "base_uri": "https://localhost:8080/"
        },
        "id": "9_o_gI21Hlme",
        "outputId": "1f685df3-0eeb-428f-f815-2590dd816a0b"
      },
      "outputs": [
        {
          "name": "stdout",
          "output_type": "stream",
          "text": [
            "50.03281999999997\n"
          ]
        }
      ],
      "source": [
        "avg_regret_s =0\n",
        "for i in range(100):\n",
        "  agent = EE21B093_Q2()\n",
        "  environment = Environment(100,agent)\n",
        "  regret_w,regret_s,reger_rho,total_runs,total_wickets,run_time = environment.innings()\n",
        "  avg_regret_s += regret_s/100\n",
        "#print(regret_w,regret_s,reger_rho,total_runs,total_wickets,run_time)\n",
        "print(avg_regret_s )\n"
      ]
    },
    {
      "cell_type": "code",
      "execution_count": 90,
      "metadata": {
        "id": "sCghHDVww4sZ"
      },
      "outputs": [],
      "source": []
    },
    {
      "cell_type": "code",
      "execution_count": 90,
      "metadata": {
        "id": "EBLp5-XwKpDu"
      },
      "outputs": [],
      "source": []
    }
  ],
  "metadata": {
    "colab": {
      "provenance": []
    },
    "kernelspec": {
      "display_name": "Python 3",
      "name": "python3"
    },
    "language_info": {
      "name": "python"
    }
  },
  "nbformat": 4,
  "nbformat_minor": 0
}
