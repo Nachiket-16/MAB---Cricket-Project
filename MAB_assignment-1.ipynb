{
  "cells": [
    {
      "cell_type": "markdown",
      "metadata": {
        "id": "XUfLiMPdNT6i"
      },
      "source": [
        "You can use this template for problems 1, 2 and 3"
      ]
    },
    {
      "cell_type": "code",
      "execution_count": null,
      "metadata": {
        "id": "RjPY68QJQ-nH"
      },
      "outputs": [],
      "source": [
        "import numpy as np\n",
        "import time\n",
        "# Students will submit their files with their team-name.py\n",
        "# Student have to use the Team as their parent class"
      ]
    },
    {
      "cell_type": "markdown",
      "metadata": {
        "id": "IyIa-PRKCTCb"
      },
      "source": [
        "Recent Version of the Code"
      ]
    },
    {
      "cell_type": "code",
      "execution_count": null,
      "metadata": {
        "id": "u3mNBpDOCSWd"
      },
      "outputs": [],
      "source": [
        "# class ROLLNUMBER_Q1:\n",
        "#   def __init__(self):\n",
        "#     self.__num_arms = 6\n",
        "#     self._counts = np.zeros(self.__num_arms)\n",
        "#     self._values = np.zeros(self.__num_arms)\n",
        "#     self.__prev_arm = -1\n",
        "#     self.__count = 0\n",
        "#     #self._prev\n",
        "\n",
        "#   def __compute(self,arm):\n",
        "#     # kl divergence formulae\n",
        "#     def kl_divergence(p, q):\n",
        "#       if q == 0 and p == 0:\n",
        "#           return 0\n",
        "#       elif q == 0 and not p == 0:\n",
        "#           return DIV_MAX\n",
        "#       elif q == 1 and p == 1:\n",
        "#           return 0\n",
        "#       elif q == 1 and not p == 1:\n",
        "#           return DIV_MAX\n",
        "#       elif p == 0:\n",
        "#           return np.log(1/(1-q))\n",
        "#       elif p == 1:\n",
        "#           return np.log(1/q)\n",
        "#       return p * np.log(p/q) + (1-p) * np.log((1-p)/(1-q))\n",
        "\n",
        "#     DIV_MAX = 10000000\n",
        "#     precision = 1e-7\n",
        "#     max_iter = 50\n",
        "#     n = 0\n",
        "#     p = self._values[arm]\n",
        "#     lower_bound = self._values[arm]\n",
        "#     upper_bound = 1\n",
        "#     # loop to find the best q, i.e ucb\n",
        "#     while n<max_iter and upper_bound - lower_bound > precision:\n",
        "#       q = (lower_bound + upper_bound)/2\n",
        "#       if kl_divergence(p,q) > np.log(1 + self._count*(np.log(self.count)**2))/self._counts[arm]:\n",
        "#         upper_bound = q\n",
        "#       else:\n",
        "#         lower_bound = q\n",
        "#       n+=1\n",
        "#     result = (lower_bound + upper_bound)/2.\n",
        "#     return result\n",
        "\n",
        "#   def get_action(self,wicket,runs_scored):\n",
        "\n",
        "#     self.__count += 1\n",
        "#     if self.__count > 1:\n",
        "#       self._counts[self.__prev_arm] += 1\n",
        "#       self._values[self.__prev_arm] += (2-wicket - self._values[self.__prev_arm])/self._counts[self.__prev_arm]\n",
        "#     #print(self._prev_arm , self.values[self._prev_arm])\n",
        "\n",
        "#     # exploration phase\n",
        "#     if self.__count <= self.__num_arms:\n",
        "#       self.__prev_arm += 1\n",
        "#       return self.__prev_arm\n",
        "\n",
        "#     kcl_ucb = np.zeros(self.__num_arms)\n",
        "#     for arm in range(self.__num_arms):\n",
        "#       kcl_ucb[arm] = self.__compute(arm)\n",
        "#     self.__prev_arm = np.argmax(kcl_ucb)\n",
        "#     # print(self._prev_arm , self.values[self._prev_arm])\n",
        "#     #action = np.random.randint(0,6)\n",
        "#     return self.__prev_arm\n",
        "\n",
        "\n",
        "\n",
        "####################################################################################\n",
        "\n",
        "\n",
        "class EE21B093_Q1:\n",
        "  def __init__(self):\n",
        "    self.pred_mean = np.zeros(6,dtype = float)\n",
        "    #self.init_action = [i for i in range(6) for j in range(1)]\n",
        "    self.Time = np.zeros((6,),dtype = int)\n",
        "    self.UCB = np.zeros((6,),dtype = float)\n",
        "    self.prev_action=-1\n",
        "    self.i=0\n",
        "\n",
        "  def KL_divergence(self,p,q):\n",
        "    DIV_MAX = 100000\n",
        "    if q == 0 and p == 0:\n",
        "      return 0\n",
        "\n",
        "    elif q == 0 and not p == 0:\n",
        "\n",
        "      return DIV_MAX\n",
        "    elif q == 1 and p == 1:\n",
        "\n",
        "      return 0\n",
        "\n",
        "    elif q == 1 and not p == 1:\n",
        "\n",
        "      return DIV_MAX\n",
        "\n",
        "    elif p == 0:\n",
        "\n",
        "      return np.log(1/(1-q))\n",
        "\n",
        "    elif p == 1:\n",
        "\n",
        "      return np.log(1/q)\n",
        "\n",
        "    return p*np.log(p/q) + (1-p)*np.log((1-p)/(1-q))\n",
        "\n",
        "\n",
        "  def KL_UCB(self,action,time):\n",
        "\n",
        "    b=1\n",
        "    bound=np.log(1+time*(np.log(time))**2)/self.Time[action]\n",
        "    pred_mean=self.pred_mean[action]\n",
        "    a=pred_mean\n",
        "    for i in range(10):\n",
        "      mu=(a+b)/2\n",
        "      if (self.KL_divergence(pred_mean,mu) < bound):\n",
        "        a=mu\n",
        "      else:\n",
        "        b=mu\n",
        "    return (a+b)/2\n",
        "\n",
        "  def get_action(self,wicket,runs_scored):\n",
        "\n",
        "    reward=1-wicket\n",
        "    while(self.i<6): #Playing Every Arm once\n",
        "      if(self.prev_action != -1):\n",
        "        self.pred_mean[self.prev_action]+=(1-wicket - self.pred_mean[self.prev_action])/self.Time[self.prev_action]\n",
        "      #ret = self.init_action[self.i]\n",
        "      ret = self.i\n",
        "      self.Time[ret] = self.Time[ret] + 1\n",
        "      self.prev_action = ret\n",
        "      self.i+=1\n",
        "      return int(ret)\n",
        "\n",
        "\n",
        "    self.pred_mean[self.prev_action]+=(1-wicket - self.pred_mean[self.prev_action])/self.Time[self.prev_action]\n",
        "    #print(self.pred_mean)\n",
        "    for j in range(6):\n",
        "      self.UCB[j]=self.KL_UCB(j,self.i)\n",
        "    ret = np.argmax(self.UCB)\n",
        "    self.Time[ret] = self.Time[ret] + 1\n",
        "    self.prev_action = ret\n",
        "    self.i+=1\n",
        "    return ret\n",
        "\n",
        "\n"
      ]
    },
    {
      "cell_type": "code",
      "execution_count": null,
      "metadata": {
        "id": "HzfBOAnrCycf"
      },
      "outputs": [],
      "source": [
        "class Environment:\n",
        "  def __init__(self,num_balls,agent):\n",
        "    self.num_balls = num_balls\n",
        "    self.agent = agent\n",
        "    self.__run_time = 0\n",
        "    self.__total_runs = 0\n",
        "    self.__total_wickets = 0\n",
        "    self.__runs_scored = 0\n",
        "    self.__start_time = 0\n",
        "    self.__end_time = 0\n",
        "    self.__regret_w = 0\n",
        "    self.__regret_s = 0\n",
        "    self.__wicket = 0\n",
        "    self.__regret_rho = 0\n",
        "    self.__p_out = np.array([0.001,0.5,0.12,0.03,0.1,0.3])\n",
        "    self.__p_run = np.array([1,0.9,0.85,0.8,0.75,0.7])\n",
        "    self.__action_runs_map = np.array([0,1,2,3,4,6])\n",
        "    self.__s = (1-self.__p_out)*self.__p_run*self.__action_runs_map\n",
        "    self.__rho = self.__s/self.__p_out\n",
        "\n",
        "\n",
        "  def __get_action(self):\n",
        "    self.__start_time      = time. time()\n",
        "    action          = self.agent.get_action(self.__wicket,self.__runs_scored)\n",
        "    self.__end_time        = time. time()\n",
        "    self.__run_time   = self.__run_time + self.__end_time - self.__start_time\n",
        "    return action\n",
        "\n",
        "\n",
        "  def __get_outcome(self, action):\n",
        "    pout = self.__p_out[action]\n",
        "    prun= self.__p_run[action]\n",
        "    wicket = np.random.choice(2,1,p=[1-pout,pout])[0]\n",
        "    runs = 0\n",
        "    if(wicket==0):\n",
        "      runs = self.__action_runs_map[action]*np.random.choice(2,1,p=[1-prun,prun])[0]\n",
        "    return wicket, runs\n",
        "\n",
        "\n",
        "  def innings(self):\n",
        "    self.__total_runs = 0\n",
        "    self.__total_wickets = 0\n",
        "    self.__runs_scored = 0\n",
        "\n",
        "    for ball in range(self.num_balls):\n",
        "      action = self.__get_action()\n",
        "      self.__wicket, self.__runs_scored   = self.__get_outcome(action)\n",
        "      self.__total_runs     = self.__total_runs + self.__runs_scored\n",
        "      self.__total_wickets  = self.__total_wickets + self.__wicket\n",
        "      self.__regret_w       = self.__regret_w+ (self.__p_out[action]-np.min(self.__p_out))\n",
        "      self.__regret_s       = self.__regret_s+ (np.max(self.__s) - self.__s[action])\n",
        "      self.__regret_rho       = self.__regret_rho+ (np.max(self.__rho)-self.__rho[action])\n",
        "    return self.__regret_w,self.__regret_s,self.__regret_rho, self.__total_runs, self.__total_wickets, self.__run_time\n"
      ]
    },
    {
      "cell_type": "code",
      "execution_count": null,
      "metadata": {
        "colab": {
          "base_uri": "https://localhost:8080/"
        },
        "id": "9_o_gI21Hlme",
        "outputId": "9fc85b78-5a49-4c48-80cb-ac7fd17079d5"
      },
      "outputs": [
        {
          "name": "stdout",
          "output_type": "stream",
          "text": [
            "aadharsh 1.045 284.08599999999984 7632.233333333346 9 0 0.010392189025878906\n"
          ]
        }
      ],
      "source": [
        "agent = EE21B093_Q1()\n",
        "environment = Environment(100,agent)\n",
        "regret_w,regret_s,reger_rho,total_runs,total_wickets,run_time = environment.innings()\n",
        "print(\"aadharsh\",regret_w,regret_s,reger_rho,total_runs,total_wickets,run_time)\n"
      ]
    },
    {
      "cell_type": "code",
      "execution_count": null,
      "metadata": {
        "colab": {
          "base_uri": "https://localhost:8080/"
        },
        "id": "sCghHDVww4sZ",
        "outputId": "e316d0c1-7b25-426e-8139-18305bdfcc8a"
      },
      "outputs": [
        {
          "name": "stdout",
          "output_type": "stream",
          "text": [
            "8.696999999999996 29299.985999995162 775274.0999998612 112 20 2.642613649368286\n"
          ]
        }
      ],
      "source": [
        "print(regret_w,regret_s,reger_rho,total_runs,total_wickets,run_time)"
      ]
    },
    {
      "cell_type": "code",
      "execution_count": null,
      "metadata": {
        "id": "EBLp5-XwKpDu"
      },
      "outputs": [],
      "source": []
    }
  ],
  "metadata": {
    "colab": {
      "provenance": []
    },
    "kernelspec": {
      "display_name": "Python 3.10.8 64-bit",
      "language": "python",
      "name": "python3"
    },
    "language_info": {
      "name": "python",
      "version": "3.10.8"
    },
    "vscode": {
      "interpreter": {
        "hash": "aee8b7b246df8f9039afb4144a1f6fd8d2ca17a180786b69acc140d282b71a49"
      }
    }
  },
  "nbformat": 4,
  "nbformat_minor": 0
}
